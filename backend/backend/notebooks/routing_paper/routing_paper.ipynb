{
 "cells": [
  {
   "cell_type": "markdown",
   "metadata": {},
   "source": [
    "Run notebook server with the following command:\n",
    "```bash\n",
    "poetry run python manage.py shell_plus --notebook\n",
    "```\n",
    "Dump data (needs to be done for DRN and OSM data):\n",
    "```bash\n",
    "poetry run python manage.py dumpdata composer composer.RouteLSABinding > db_<drn/osm>.json\n",
    "```"
   ]
  },
  {
   "cell_type": "code",
   "execution_count": 7,
   "metadata": {},
   "outputs": [],
   "source": [
    "def get_routes_with_bindings(data):\n",
    "    routes = []\n",
    "    bindings = []\n",
    "    for entry in data:\n",
    "        if entry[\"model\"] == \"composer.route\":\n",
    "            routes.append(entry)\n",
    "        if entry[\"model\"] == \"composer.routelsabinding\":\n",
    "            bindings.append(entry)\n",
    "    routes_with_bindings = {}\n",
    "    for binding in bindings:\n",
    "        if binding[\"fields\"][\"route\"] not in routes_with_bindings:\n",
    "            routes_with_bindings[binding[\"fields\"][\"route\"]] = next(route for route in routes if route[\"pk\"] == binding[\"fields\"][\"route\"])\n",
    "    return routes_with_bindings\n",
    "\n",
    "def get_bindings_for_route_id(data, route_id):\n",
    "    selected_lsa_ids = []\n",
    "    for entry in data:\n",
    "        if entry[\"model\"] == \"composer.routelsabinding\" and entry[\"fields\"][\"route\"] == route_id:\n",
    "            selected_lsa_ids.append(entry[\"fields\"][\"lsa\"])\n",
    "    return selected_lsa_ids\n",
    "\n",
    "from shapely.geometry import LineString as ShapelyLineString\n",
    "from shapely import wkt\n",
    "from routing.models import LSA\n",
    "from django.conf import settings\n",
    "from routing.matching.projection import project_onto_route\n",
    "\n",
    "def get_distances(sg_ids, route_django_linestring):\n",
    "    distances = set()\n",
    "    for sg_id in sg_ids:\n",
    "        sg = LSA.objects.get(pk=sg_id)\n",
    "        sg_geometry = sg.geometry\n",
    "        sg_geometry_meter = sg_geometry.transform(settings.METRICAL, clone=True)\n",
    "        sg_geometry_meter_projected = project_onto_route(sg_geometry_meter, route_django_linestring)\n",
    "        sg_geometry_meter_shapely = wkt.loads(sg_geometry_meter.wkt)\n",
    "        sg_geometry_meter_projected_shapely = wkt.loads(sg_geometry_meter_projected.wkt)\n",
    "        distances.add(sg_geometry_meter_shapely.hausdorff_distance(sg_geometry_meter_projected_shapely))\n",
    "    return distances\n",
    "    "
   ]
  },
  {
   "cell_type": "markdown",
   "metadata": {},
   "source": [
    "# Import bindings"
   ]
  },
  {
   "cell_type": "code",
   "execution_count": 3,
   "metadata": {},
   "outputs": [],
   "source": [
    "import json\n",
    "import os\n",
    "from django.conf import settings\n",
    "from django.contrib.gis.geos import LineString\n",
    "# Import DRN json file\n",
    "f_drn = open('db_drn.json')\n",
    "data_drn = json.load(f_drn)\n",
    "routes_with_bindings_drn = get_routes_with_bindings(data_drn)\n",
    "# Import OSM json file\n",
    "f_osm = open('db_osm.json')\n",
    "data_osm = json.load(f_osm)\n",
    "routes_with_bindings_osm = get_routes_with_bindings(data_osm)"
   ]
  },
  {
   "cell_type": "markdown",
   "metadata": {},
   "source": [
    "# Matching"
   ]
  },
  {
   "cell_type": "code",
   "execution_count": 8,
   "metadata": {},
   "outputs": [
    {
     "name": "stdout",
     "output_type": "stream",
     "text": [
      "DRN TP: 12, FP: 1, FN: 0\n"
     ]
    },
    {
     "ename": "KeyboardInterrupt",
     "evalue": "",
     "output_type": "error",
     "traceback": [
      "\u001b[0;31m---------------------------------------------------------------------------\u001b[0m",
      "\u001b[0;31mKeyboardInterrupt\u001b[0m                         Traceback (most recent call last)",
      "Cell \u001b[0;32mIn[8], line 17\u001b[0m\n\u001b[1;32m     15\u001b[0m points \u001b[38;5;241m=\u001b[39m [(\u001b[38;5;28mfloat\u001b[39m(point\u001b[38;5;241m.\u001b[39msplit(\u001b[38;5;124m\"\u001b[39m\u001b[38;5;124m \u001b[39m\u001b[38;5;124m\"\u001b[39m)[\u001b[38;5;241m0\u001b[39m]), \u001b[38;5;28mfloat\u001b[39m(point\u001b[38;5;241m.\u001b[39msplit(\u001b[38;5;124m\"\u001b[39m\u001b[38;5;124m \u001b[39m\u001b[38;5;124m\"\u001b[39m)[\u001b[38;5;241m1\u001b[39m])) \u001b[38;5;28;01mfor\u001b[39;00m point \u001b[38;5;129;01min\u001b[39;00m routeGeometry\u001b[38;5;241m.\u001b[39mreplace(\u001b[38;5;124m\"\u001b[39m\u001b[38;5;124mSRID=4326;LINESTRING (\u001b[39m\u001b[38;5;124m\"\u001b[39m, \u001b[38;5;124m\"\u001b[39m\u001b[38;5;124m\"\u001b[39m)\u001b[38;5;241m.\u001b[39mreplace(\u001b[38;5;124m\"\u001b[39m\u001b[38;5;124m)\u001b[39m\u001b[38;5;124m\"\u001b[39m,\u001b[38;5;124m\"\u001b[39m\u001b[38;5;124m\"\u001b[39m)\u001b[38;5;241m.\u001b[39msplit(\u001b[38;5;124m\"\u001b[39m\u001b[38;5;124m, \u001b[39m\u001b[38;5;124m\"\u001b[39m)]\n\u001b[1;32m     16\u001b[0m linestring \u001b[38;5;241m=\u001b[39m LineString(points, srid\u001b[38;5;241m=\u001b[39msrid)\n\u001b[0;32m---> 17\u001b[0m matches \u001b[38;5;241m=\u001b[39m \u001b[43mget_matches\u001b[49m\u001b[43m(\u001b[49m\u001b[43mlinestring\u001b[49m\u001b[43m,\u001b[49m\u001b[43m \u001b[49m\u001b[43mmatchers_drn\u001b[49m\u001b[43m)\u001b[49m\n\u001b[1;32m     18\u001b[0m matched_lsas \u001b[38;5;241m=\u001b[39m [lsa\u001b[38;5;241m.\u001b[39mid \u001b[38;5;28;01mfor\u001b[39;00m lsa \u001b[38;5;129;01min\u001b[39;00m matches]\n\u001b[1;32m     19\u001b[0m selected_lsas \u001b[38;5;241m=\u001b[39m get_bindings_for_route_id(data_drn, routes_with_bindings_drn[route_id][\u001b[38;5;124m\"\u001b[39m\u001b[38;5;124mpk\u001b[39m\u001b[38;5;124m\"\u001b[39m])\n",
      "File \u001b[0;32m/code/backend/routing/matching/__init__.py:49\u001b[0m, in \u001b[0;36mget_matches\u001b[0;34m(route, matchers)\u001b[0m\n\u001b[1;32m     47\u001b[0m matched_lsas \u001b[38;5;241m=\u001b[39m LSA\u001b[38;5;241m.\u001b[39mobjects\u001b[38;5;241m.\u001b[39mfilter(lsametadata__lane_type__icontains\u001b[38;5;241m=\u001b[39m\u001b[38;5;124m\"\u001b[39m\u001b[38;5;124mRadfahrer\u001b[39m\u001b[38;5;124m\"\u001b[39m)\n\u001b[1;32m     48\u001b[0m \u001b[38;5;28;01mfor\u001b[39;00m matcher \u001b[38;5;129;01min\u001b[39;00m matchers:\n\u001b[0;32m---> 49\u001b[0m     matched_lsas, _ \u001b[38;5;241m=\u001b[39m \u001b[43mmatcher\u001b[49m\u001b[38;5;241;43m.\u001b[39;49m\u001b[43mmatches\u001b[49m\u001b[43m(\u001b[49m\u001b[43mmatched_lsas\u001b[49m\u001b[43m,\u001b[49m\u001b[43m \u001b[49m\u001b[43mroute\u001b[49m\u001b[43m)\u001b[49m\n\u001b[1;32m     50\u001b[0m \u001b[38;5;28;01mreturn\u001b[39;00m matched_lsas\n",
      "File \u001b[0;32m/code/backend/routing/matching/hypermodel.py:72\u001b[0m, in \u001b[0;36mHypermodelMatcher.matches\u001b[0;34m(self, lsas, route)\u001b[0m\n\u001b[1;32m     70\u001b[0m lsas, route \u001b[38;5;241m=\u001b[39m \u001b[38;5;28msuper\u001b[39m()\u001b[38;5;241m.\u001b[39mmatches(lsas, route)\n\u001b[1;32m     71\u001b[0m \u001b[38;5;28;01mfor\u001b[39;00m m \u001b[38;5;129;01min\u001b[39;00m \u001b[38;5;28mself\u001b[39m\u001b[38;5;241m.\u001b[39mmatchers:\n\u001b[0;32m---> 72\u001b[0m     lsas, route \u001b[38;5;241m=\u001b[39m \u001b[43mm\u001b[49m\u001b[38;5;241;43m.\u001b[39;49m\u001b[43mmatches\u001b[49m\u001b[43m(\u001b[49m\u001b[43mlsas\u001b[49m\u001b[43m,\u001b[49m\u001b[43m \u001b[49m\u001b[43mroute\u001b[49m\u001b[43m)\u001b[49m\n\u001b[1;32m     73\u001b[0m \u001b[38;5;28;01mreturn\u001b[39;00m lsas, route\n",
      "File \u001b[0;32m/code/backend/routing/matching/overlap.py:141\u001b[0m, in \u001b[0;36mOverlapMatcher.matches\u001b[0;34m(self, lsas, route)\u001b[0m\n\u001b[1;32m    139\u001b[0m sections \u001b[38;5;241m=\u001b[39m calc_sections(lsas, route)\n\u001b[1;32m    140\u001b[0m distances \u001b[38;5;241m=\u001b[39m calc_distances(lsas, route)\n\u001b[0;32m--> 141\u001b[0m sides \u001b[38;5;241m=\u001b[39m \u001b[43mcalc_sides\u001b[49m\u001b[43m(\u001b[49m\u001b[43mlsas\u001b[49m\u001b[43m,\u001b[49m\u001b[43m \u001b[49m\u001b[43mroute\u001b[49m\u001b[43m)\u001b[49m\n\u001b[1;32m    142\u001b[0m overlaps \u001b[38;5;241m=\u001b[39m \u001b[38;5;28mself\u001b[39m\u001b[38;5;241m.\u001b[39mcalc_overlaps(sections)\n\u001b[1;32m    144\u001b[0m excluded_lsas \u001b[38;5;241m=\u001b[39m \u001b[38;5;28mset\u001b[39m()\n",
      "File \u001b[0;32m/code/backend/routing/matching/overlap.py:67\u001b[0m, in \u001b[0;36mcalc_sides\u001b[0;34m(lsas, route)\u001b[0m\n\u001b[1;32m     65\u001b[0m side_dict \u001b[38;5;241m=\u001b[39m {}\n\u001b[1;32m     66\u001b[0m \u001b[38;5;28;01mfor\u001b[39;00m lsa \u001b[38;5;129;01min\u001b[39;00m lsas:\n\u001b[0;32m---> 67\u001b[0m     side_dict[lsa\u001b[38;5;241m.\u001b[39mid] \u001b[38;5;241m=\u001b[39m \u001b[43mcalc_side\u001b[49m\u001b[43m(\u001b[49m\u001b[43mroute\u001b[49m\u001b[43m,\u001b[49m\u001b[43m \u001b[49m\u001b[43mlsa\u001b[49m\u001b[38;5;241;43m.\u001b[39;49m\u001b[43mgeometry\u001b[49m\u001b[43m)\u001b[49m\n\u001b[1;32m     68\u001b[0m \u001b[38;5;28;01mreturn\u001b[39;00m side_dict\n",
      "File \u001b[0;32m/code/backend/routing/matching/bearing.py:114\u001b[0m, in \u001b[0;36mcalc_side\u001b[0;34m(l1, l2)\u001b[0m\n\u001b[1;32m    111\u001b[0m nearest_point_on_l2 \u001b[38;5;241m=\u001b[39m system_l2\u001b[38;5;241m.\u001b[39minterpolate(system_l2\u001b[38;5;241m.\u001b[39mproject(system_l1\u001b[38;5;241m.\u001b[39minterpolate_normalized(\u001b[38;5;241m0\u001b[39m)))\n\u001b[1;32m    113\u001b[0m transition_bearing \u001b[38;5;241m=\u001b[39m get_bearing(\u001b[38;5;241m*\u001b[39msystem_l1\u001b[38;5;241m.\u001b[39mcoords[\u001b[38;5;241m0\u001b[39m][:\u001b[38;5;241m2\u001b[39m], \u001b[38;5;241m*\u001b[39mnearest_point_on_l2[:\u001b[38;5;241m2\u001b[39m])\n\u001b[0;32m--> 114\u001b[0m own_bearing \u001b[38;5;241m=\u001b[39m get_bearing(\u001b[38;5;241m*\u001b[39msystem_l1\u001b[38;5;241m.\u001b[39mcoords[\u001b[38;5;241m0\u001b[39m][:\u001b[38;5;241m2\u001b[39m], \u001b[38;5;241m*\u001b[39m\u001b[43msystem_l1\u001b[49m\u001b[38;5;241;43m.\u001b[39;49m\u001b[43mcoords\u001b[49m[\u001b[38;5;241m1\u001b[39m][:\u001b[38;5;241m2\u001b[39m])\n\u001b[1;32m    116\u001b[0m bearing_diff \u001b[38;5;241m=\u001b[39m \u001b[38;5;28mround\u001b[39m(transition_bearing) \u001b[38;5;241m-\u001b[39m \u001b[38;5;28mround\u001b[39m(own_bearing)\n\u001b[1;32m    118\u001b[0m \u001b[38;5;66;03m# Determine the side of the route the linestring is on\u001b[39;00m\n",
      "File \u001b[0;32m~/.cache/pypoetry/virtualenvs/backend-MATOk_fk-py3.9/lib/python3.9/site-packages/django/contrib/gis/geos/linestring.py:145\u001b[0m, in \u001b[0;36mLineString.tuple\u001b[0;34m(self)\u001b[0m\n\u001b[1;32m    142\u001b[0m \u001b[38;5;129m@property\u001b[39m\n\u001b[1;32m    143\u001b[0m \u001b[38;5;28;01mdef\u001b[39;00m \u001b[38;5;21mtuple\u001b[39m(\u001b[38;5;28mself\u001b[39m):\n\u001b[1;32m    144\u001b[0m     \u001b[38;5;124m\"\u001b[39m\u001b[38;5;124mReturn a tuple version of the geometry from the coordinate sequence.\u001b[39m\u001b[38;5;124m\"\u001b[39m\n\u001b[0;32m--> 145\u001b[0m     \u001b[38;5;28;01mreturn\u001b[39;00m \u001b[38;5;28;43mself\u001b[39;49m\u001b[38;5;241;43m.\u001b[39;49m\u001b[43m_cs\u001b[49m\u001b[38;5;241;43m.\u001b[39;49m\u001b[43mtuple\u001b[49m\n",
      "File \u001b[0;32m~/.cache/pypoetry/virtualenvs/backend-MATOk_fk-py3.9/lib/python3.9/site-packages/django/contrib/gis/geos/coordseq.py:200\u001b[0m, in \u001b[0;36mGEOSCoordSeq.tuple\u001b[0;34m(self)\u001b[0m\n\u001b[1;32m    198\u001b[0m \u001b[38;5;28;01mif\u001b[39;00m n \u001b[38;5;241m==\u001b[39m \u001b[38;5;241m1\u001b[39m:\n\u001b[1;32m    199\u001b[0m     \u001b[38;5;28;01mreturn\u001b[39;00m get_point(\u001b[38;5;241m0\u001b[39m)\n\u001b[0;32m--> 200\u001b[0m \u001b[38;5;28;01mreturn\u001b[39;00m \u001b[38;5;28;43mtuple\u001b[39;49m\u001b[43m(\u001b[49m\u001b[43mget_point\u001b[49m\u001b[43m(\u001b[49m\u001b[43mi\u001b[49m\u001b[43m)\u001b[49m\u001b[43m \u001b[49m\u001b[38;5;28;43;01mfor\u001b[39;49;00m\u001b[43m \u001b[49m\u001b[43mi\u001b[49m\u001b[43m \u001b[49m\u001b[38;5;129;43;01min\u001b[39;49;00m\u001b[43m \u001b[49m\u001b[38;5;28;43mrange\u001b[39;49m\u001b[43m(\u001b[49m\u001b[43mn\u001b[49m\u001b[43m)\u001b[49m\u001b[43m)\u001b[49m\n",
      "File \u001b[0;32m~/.cache/pypoetry/virtualenvs/backend-MATOk_fk-py3.9/lib/python3.9/site-packages/django/contrib/gis/geos/coordseq.py:200\u001b[0m, in \u001b[0;36m<genexpr>\u001b[0;34m(.0)\u001b[0m\n\u001b[1;32m    198\u001b[0m \u001b[38;5;28;01mif\u001b[39;00m n \u001b[38;5;241m==\u001b[39m \u001b[38;5;241m1\u001b[39m:\n\u001b[1;32m    199\u001b[0m     \u001b[38;5;28;01mreturn\u001b[39;00m get_point(\u001b[38;5;241m0\u001b[39m)\n\u001b[0;32m--> 200\u001b[0m \u001b[38;5;28;01mreturn\u001b[39;00m \u001b[38;5;28mtuple\u001b[39m(\u001b[43mget_point\u001b[49m\u001b[43m(\u001b[49m\u001b[43mi\u001b[49m\u001b[43m)\u001b[49m \u001b[38;5;28;01mfor\u001b[39;00m i \u001b[38;5;129;01min\u001b[39;00m \u001b[38;5;28mrange\u001b[39m(n))\n",
      "File \u001b[0;32m~/.cache/pypoetry/virtualenvs/backend-MATOk_fk-py3.9/lib/python3.9/site-packages/django/contrib/gis/geos/coordseq.py:102\u001b[0m, in \u001b[0;36mGEOSCoordSeq._get_point_2d\u001b[0;34m(self, index)\u001b[0m\n\u001b[1;32m    101\u001b[0m \u001b[38;5;28;01mdef\u001b[39;00m \u001b[38;5;21m_get_point_2d\u001b[39m(\u001b[38;5;28mself\u001b[39m, index):\n\u001b[0;32m--> 102\u001b[0m     \u001b[38;5;28;01mreturn\u001b[39;00m (\u001b[38;5;28;43mself\u001b[39;49m\u001b[38;5;241;43m.\u001b[39;49m\u001b[43m_get_x\u001b[49m\u001b[43m(\u001b[49m\u001b[43mindex\u001b[49m\u001b[43m)\u001b[49m, \u001b[38;5;28mself\u001b[39m\u001b[38;5;241m.\u001b[39m_get_y(index))\n",
      "File \u001b[0;32m~/.cache/pypoetry/virtualenvs/backend-MATOk_fk-py3.9/lib/python3.9/site-packages/django/contrib/gis/geos/coordseq.py:80\u001b[0m, in \u001b[0;36mGEOSCoordSeq._get_x\u001b[0;34m(self, index)\u001b[0m\n\u001b[1;32m     79\u001b[0m \u001b[38;5;28;01mdef\u001b[39;00m \u001b[38;5;21m_get_x\u001b[39m(\u001b[38;5;28mself\u001b[39m, index):\n\u001b[0;32m---> 80\u001b[0m     \u001b[38;5;28;01mreturn\u001b[39;00m \u001b[43mcapi\u001b[49m\u001b[38;5;241;43m.\u001b[39;49m\u001b[43mcs_getx\u001b[49m\u001b[43m(\u001b[49m\u001b[38;5;28;43mself\u001b[39;49m\u001b[38;5;241;43m.\u001b[39;49m\u001b[43mptr\u001b[49m\u001b[43m,\u001b[49m\u001b[43m \u001b[49m\u001b[43mindex\u001b[49m\u001b[43m,\u001b[49m\u001b[43m \u001b[49m\u001b[43mbyref\u001b[49m\u001b[43m(\u001b[49m\u001b[43mc_double\u001b[49m\u001b[43m(\u001b[49m\u001b[43m)\u001b[49m\u001b[43m)\u001b[49m\u001b[43m)\u001b[49m\n",
      "File \u001b[0;32m~/.cache/pypoetry/virtualenvs/backend-MATOk_fk-py3.9/lib/python3.9/site-packages/django/contrib/gis/geos/libgeos.py:153\u001b[0m, in \u001b[0;36mGEOSFuncFactory.__call__\u001b[0;34m(self, *args)\u001b[0m\n\u001b[1;32m    152\u001b[0m \u001b[38;5;28;01mdef\u001b[39;00m \u001b[38;5;21m__call__\u001b[39m(\u001b[38;5;28mself\u001b[39m, \u001b[38;5;241m*\u001b[39margs):\n\u001b[0;32m--> 153\u001b[0m     \u001b[38;5;28;01mreturn\u001b[39;00m \u001b[38;5;28;43mself\u001b[39;49m\u001b[38;5;241;43m.\u001b[39;49m\u001b[43mfunc\u001b[49m\u001b[43m(\u001b[49m\u001b[38;5;241;43m*\u001b[39;49m\u001b[43margs\u001b[49m\u001b[43m)\u001b[49m\n",
      "File \u001b[0;32m~/.cache/pypoetry/virtualenvs/backend-MATOk_fk-py3.9/lib/python3.9/site-packages/django/contrib/gis/geos/prototypes/threadsafe.py:47\u001b[0m, in \u001b[0;36mGEOSFunc.__call__\u001b[0;34m(self, *args)\u001b[0m\n\u001b[1;32m     44\u001b[0m \u001b[38;5;28mself\u001b[39m\u001b[38;5;241m.\u001b[39mthread_context\u001b[38;5;241m.\u001b[39mhandle \u001b[38;5;241m=\u001b[39m \u001b[38;5;28mself\u001b[39m\u001b[38;5;241m.\u001b[39mthread_context\u001b[38;5;241m.\u001b[39mhandle \u001b[38;5;129;01mor\u001b[39;00m GEOSContextHandle()\n\u001b[1;32m     45\u001b[0m \u001b[38;5;66;03m# Call the threaded GEOS routine with the pointer of the context handle\u001b[39;00m\n\u001b[1;32m     46\u001b[0m \u001b[38;5;66;03m# as the first argument.\u001b[39;00m\n\u001b[0;32m---> 47\u001b[0m \u001b[38;5;28;01mreturn\u001b[39;00m \u001b[38;5;28;43mself\u001b[39;49m\u001b[38;5;241;43m.\u001b[39;49m\u001b[43mcfunc\u001b[49m\u001b[43m(\u001b[49m\u001b[38;5;28;43mself\u001b[39;49m\u001b[38;5;241;43m.\u001b[39;49m\u001b[43mthread_context\u001b[49m\u001b[38;5;241;43m.\u001b[39;49m\u001b[43mhandle\u001b[49m\u001b[38;5;241;43m.\u001b[39;49m\u001b[43mptr\u001b[49m\u001b[43m,\u001b[49m\u001b[43m \u001b[49m\u001b[38;5;241;43m*\u001b[39;49m\u001b[43margs\u001b[49m\u001b[43m)\u001b[49m\n",
      "File \u001b[0;32m~/.cache/pypoetry/virtualenvs/backend-MATOk_fk-py3.9/lib/python3.9/site-packages/django/contrib/gis/geos/prototypes/coordseq.py:16\u001b[0m, in \u001b[0;36mcheck_cs_get\u001b[0;34m(result, func, cargs)\u001b[0m\n\u001b[1;32m     12\u001b[0m     \u001b[38;5;28;01melse\u001b[39;00m:\n\u001b[1;32m     13\u001b[0m         \u001b[38;5;28;01mreturn\u001b[39;00m result\n\u001b[0;32m---> 16\u001b[0m \u001b[38;5;28;01mdef\u001b[39;00m \u001b[38;5;21mcheck_cs_get\u001b[39m(result, func, cargs):\n\u001b[1;32m     17\u001b[0m     \u001b[38;5;124m\"\u001b[39m\u001b[38;5;124mCheck the coordinate sequence retrieval.\u001b[39m\u001b[38;5;124m\"\u001b[39m\n\u001b[1;32m     18\u001b[0m     check_cs_op(result, func, cargs)\n",
      "\u001b[0;31mKeyboardInterrupt\u001b[0m: "
     ]
    }
   ],
   "source": [
    "from routing.matching.hypermodel import TopologicHypermodelMatcher\n",
    "from routing.matching import get_matches\n",
    "\n",
    "# DRN\n",
    "tp_drn = set()\n",
    "tp_drn_distances = set()\n",
    "fp_drn = set()\n",
    "fp_drn_distances = set()\n",
    "fn_drn = set()\n",
    "fn_drn_distances = set()\n",
    "matchers_drn = [ TopologicHypermodelMatcher.from_config_file(f'config/topologic.hypermodel.drn.updated.json') ]\n",
    "for route_id in routes_with_bindings_drn:\n",
    "    routeGeometry = routes_with_bindings_drn[route_id][\"fields\"][\"geometry\"]\n",
    "    srid = int(routeGeometry.split(\"=\")[1].split(\";\")[0])\n",
    "    points = [(float(point.split(\" \")[0]), float(point.split(\" \")[1])) for point in routeGeometry.replace(\"SRID=4326;LINESTRING (\", \"\").replace(\")\",\"\").split(\", \")]\n",
    "    linestring = LineString(points, srid=srid)\n",
    "    matches = get_matches(linestring, matchers_drn)\n",
    "    matched_lsas = [lsa.id for lsa in matches]\n",
    "    selected_lsas = get_bindings_for_route_id(data_drn, routes_with_bindings_drn[route_id][\"pk\"])\n",
    "    tp = set(matched_lsas) & set(selected_lsas)\n",
    "    tp_drn_distances = get_distances(tp, linestring)\n",
    "    tp_drn.update(tp)\n",
    "    fp = set(matched_lsas) - set(selected_lsas)\n",
    "    fp_drn_distances = get_distances(fp, linestring)\n",
    "    fp_drn.update(fp)\n",
    "    fn = set(selected_lsas) - set(matched_lsas)\n",
    "    fn_drn_distances = get_distances(fn, linestring)\n",
    "    fn_drn.update(fn)\n",
    "    print(f\"DRN TP: {len(tp_drn)}, FP: {len(fp_drn)}, FN: {len(fn_drn)}\")\n",
    "tp_drn_count = len(tp_drn)\n",
    "fp_drn_count = len(fp_drn)\n",
    "fn_drn_count = len(fn_drn)\n",
    "precision_drn = tp_drn_count / (tp_drn_count + fp_drn_count) if tp_drn_count + fp_drn_count > 0 else 0\n",
    "recall_drn = tp_drn_count / (tp_drn_count + fn_drn_count) if tp_tp_drn_countdrn + fn_drn_count > 0 else 0\n",
    "f1_drn = 2 * precision_drn * recall_drn / (precision_drn + recall_drn) if precision_drn + recall_drn > 0 else 0\n",
    "# OSM\n",
    "tp_osm = set()\n",
    "tp_osm_distances = set()\n",
    "fp_osm = set()\n",
    "fp_osm_distances = set()\n",
    "fn_osm = set()\n",
    "fn_osm_distances = set()\n",
    "matchers_osm = [ TopologicHypermodelMatcher.from_config_file(f'config/topologic.hypermodel.osm.updated.json') ]\n",
    "for route_id in routes_with_bindings_drn:\n",
    "    routeGeometry = routes_with_bindings_drn[route_id][\"fields\"][\"geometry\"]\n",
    "    srid = int(routeGeometry.split(\"=\")[1].split(\";\")[0])\n",
    "    points = [(float(point.split(\" \")[0]), float(point.split(\" \")[1])) for point in routeGeometry.replace(\"SRID=4326;LINESTRING (\", \"\").replace(\")\",\"\").split(\", \")]\n",
    "    linestring = LineString(points, srid=srid)\n",
    "    matches = get_matches(linestring, matchers_osm)\n",
    "    matched_lsas = [lsa.id for lsa in matches]\n",
    "    selected_lsas = get_bindings_for_route_id(data_osm, routes_with_bindings_drn[route_id][\"pk\"])\n",
    "    tp = set(matched_lsas) & set(selected_lsas)\n",
    "    tp_osm_distances = get_distances(tp, linestring)\n",
    "    tp_osm.update(tp)\n",
    "    fp = set(matched_lsas) - set(selected_lsas)\n",
    "    fp_osm_distances = get_distances(fp, linestring)\n",
    "    fp_osm.update(fp)\n",
    "    fn = set(selected_lsas) - set(matched_lsas)\n",
    "    fn_osm_distances = get_distances(fn, linestring)\n",
    "    fn_osm.update(fn)\n",
    "    print(f\"OSM TP: {len(tp_osm)}, FP: {len(fp_osm)}, FN: {len(fn_osm)}\")\n",
    "tp_osm_count = len(tp_osm)\n",
    "fp_osm_count = len(fp_osm)\n",
    "fn_osm_count = len(fn_osm)\n",
    "precision_osm = tp_osm_count / (tp_osm_count + fp_osm_count) if tp_osm_count + fp_osm_count > 0 else 0\n",
    "recall_osm = tp_osm_count / (tp_osm_count + fn_osm_count) if tp_osm_count + fn_osm_count > 0 else 0\n",
    "f1_osm = 2 * precision_osm * recall_osm / (precision_osm + recall_osm) if precision_osm + recall_osm > 0 else 0"
   ]
  },
  {
   "cell_type": "code",
   "execution_count": null,
   "metadata": {},
   "outputs": [],
   "source": [
    "\n"
   ]
  },
  {
   "cell_type": "code",
   "execution_count": null,
   "metadata": {},
   "outputs": [],
   "source": []
  },
  {
   "cell_type": "code",
   "execution_count": null,
   "metadata": {},
   "outputs": [],
   "source": []
  },
  {
   "cell_type": "code",
   "execution_count": null,
   "metadata": {},
   "outputs": [],
   "source": []
  },
  {
   "cell_type": "code",
   "execution_count": null,
   "metadata": {},
   "outputs": [],
   "source": []
  },
  {
   "cell_type": "code",
   "execution_count": null,
   "metadata": {},
   "outputs": [],
   "source": []
  },
  {
   "cell_type": "code",
   "execution_count": null,
   "metadata": {},
   "outputs": [],
   "source": []
  },
  {
   "cell_type": "code",
   "execution_count": 3,
   "metadata": {},
   "outputs": [
    {
     "name": "stdout",
     "output_type": "stream",
     "text": [
      "db_drn.json  \u001b[0m\u001b[01;34mmatches\u001b[0m/  routing_paper.ipynb\r\n"
     ]
    }
   ],
   "source": []
  },
  {
   "cell_type": "code",
   "execution_count": 12,
   "metadata": {},
   "outputs": [
    {
     "name": "stdout",
     "output_type": "stream",
     "text": [
      "/code/backend/backend/notebooks/routing_paper/db_drn.json\n"
     ]
    }
   ],
   "source": []
  },
  {
   "cell_type": "code",
   "execution_count": null,
   "metadata": {},
   "outputs": [],
   "source": []
  },
  {
   "cell_type": "code",
   "execution_count": null,
   "metadata": {},
   "outputs": [],
   "source": []
  },
  {
   "cell_type": "code",
   "execution_count": null,
   "metadata": {},
   "outputs": [],
   "source": []
  }
 ],
 "metadata": {
  "kernelspec": {
   "display_name": "Django Shell-Plus",
   "language": "python",
   "name": "django_extensions"
  },
  "language_info": {
   "codemirror_mode": {
    "name": "ipython",
    "version": 3
   },
   "file_extension": ".py",
   "mimetype": "text/x-python",
   "name": "python",
   "nbconvert_exporter": "python",
   "pygments_lexer": "ipython3",
   "version": "3.9.2"
  }
 },
 "nbformat": 4,
 "nbformat_minor": 2
}
