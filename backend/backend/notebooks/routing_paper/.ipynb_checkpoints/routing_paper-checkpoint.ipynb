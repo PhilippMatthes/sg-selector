{
 "cells": [
  {
   "cell_type": "markdown",
   "metadata": {},
   "source": [
    "Run notebook server with the following command:\n",
    "```bash\n",
    "poetry run python manage.py shell_plus --notebook\n",
    "```\n",
    "Dump data (needs to be done for DRN and OSM data):\n",
    "```bash\n",
    "poetry run python manage.py dumpdata composer composer.RouteLSABinding > db_<drn/osm>.json\n",
    "```"
   ]
  },
  {
   "cell_type": "code",
   "execution_count": 7,
   "metadata": {},
   "outputs": [],
   "source": [
    "def get_routes_with_bindings(data):\n",
    "    routes = []\n",
    "    bindings = []\n",
    "    for entry in data:\n",
    "        if entry[\"model\"] == \"composer.route\":\n",
    "            routes.append(entry)\n",
    "        if entry[\"model\"] == \"composer.routelsabinding\":\n",
    "            bindings.append(entry)\n",
    "    routes_with_bindings = {}\n",
    "    for binding in bindings:\n",
    "        if binding[\"fields\"][\"route\"] not in routes_with_bindings:\n",
    "            routes_with_bindings[binding[\"fields\"][\"route\"]] = next(route for route in routes if route[\"pk\"] == binding[\"fields\"][\"route\"])\n",
    "    return routes_with_bindings\n",
    "\n",
    "def get_bindings_for_route_id(data, route_id):\n",
    "    selected_lsa_ids = []\n",
    "    for entry in data:\n",
    "        if entry[\"model\"] == \"composer.routelsabinding\" and entry[\"fields\"][\"route\"] == route_id:\n",
    "            selected_lsa_ids.append(entry[\"fields\"][\"lsa\"])\n",
    "    return selected_lsa_ids\n",
    "\n",
    "from shapely.geometry import LineString as ShapelyLineString\n",
    "from shapely import wkt\n",
    "from routing.models import LSA\n",
    "from django.conf import settings\n",
    "from routing.matching.projection import project_onto_route\n",
    "\n",
    "def get_distances(sg_ids, route_django_linestring):\n",
    "    distances = set()\n",
    "    for sg_id in sg_ids:\n",
    "        sg = LSA.objects.get(pk=sg_id)\n",
    "        sg_geometry = sg.geometry\n",
    "        sg_geometry_meter = sg_geometry.transform(settings.METRICAL, clone=True)\n",
    "        sg_geometry_meter_projected = project_onto_route(sg_geometry_meter, route_django_linestring)\n",
    "        sg_geometry_meter_shapely = wkt.loads(sg_geometry_meter.wkt)\n",
    "        sg_geometry_meter_projected_shapely = wkt.loads(sg_geometry_meter_projected.wkt)\n",
    "        distances.add(sg_geometry_meter_shapely.hausdorff_distance(sg_geometry_meter_projected_shapely))\n",
    "    return distances\n",
    "    "
   ]
  },
  {
   "cell_type": "markdown",
   "metadata": {},
   "source": [
    "# Import bindings"
   ]
  },
  {
   "cell_type": "code",
   "execution_count": 3,
   "metadata": {},
   "outputs": [],
   "source": [
    "import json\n",
    "import os\n",
    "from django.conf import settings\n",
    "from django.contrib.gis.geos import LineString\n",
    "# Import DRN json file\n",
    "f_drn = open('db_drn.json')\n",
    "data_drn = json.load(f_drn)\n",
    "routes_with_bindings_drn = get_routes_with_bindings(data_drn)\n",
    "# Import OSM json file\n",
    "f_osm = open('db_osm.json')\n",
    "data_osm = json.load(f_osm)\n",
    "routes_with_bindings_osm = get_routes_with_bindings(data_osm)"
   ]
  },
  {
   "cell_type": "markdown",
   "metadata": {},
   "source": [
    "# Matching"
   ]
  },
  {
   "cell_type": "code",
   "execution_count": null,
   "metadata": {},
   "outputs": [
    {
     "name": "stdout",
     "output_type": "stream",
     "text": [
      "DRN TP: 12, FP: 1, FN: 0\n"
     ]
    }
   ],
   "source": [
    "from routing.matching.hypermodel import TopologicHypermodelMatcher\n",
    "from routing.matching import get_matches\n",
    "\n",
    "# DRN\n",
    "tp_drn = set()\n",
    "tp_drn_distances = set()\n",
    "fp_drn = set()\n",
    "fp_drn_distances = set()\n",
    "fn_drn = set()\n",
    "fn_drn_distances = set()\n",
    "matchers_drn = [ TopologicHypermodelMatcher.from_config_file(f'config/topologic.hypermodel.drn.updated.json') ]\n",
    "for route_id in routes_with_bindings_drn:\n",
    "    routeGeometry = routes_with_bindings_drn[route_id][\"fields\"][\"geometry\"]\n",
    "    srid = int(routeGeometry.split(\"=\")[1].split(\";\")[0])\n",
    "    points = [(float(point.split(\" \")[0]), float(point.split(\" \")[1])) for point in routeGeometry.replace(\"SRID=4326;LINESTRING (\", \"\").replace(\")\",\"\").split(\", \")]\n",
    "    linestring = LineString(points, srid=srid)\n",
    "    matches = get_matches(linestring, matchers_drn)\n",
    "    matched_lsas = [lsa.id for lsa in matches]\n",
    "    selected_lsas = get_bindings_for_route_id(data_drn, routes_with_bindings_drn[route_id][\"pk\"])\n",
    "    tp = set(matched_lsas) & set(selected_lsas)\n",
    "    tp_drn_distances = get_distances(tp, linestring)\n",
    "    tp_drn.update(tp)\n",
    "    fp = set(matched_lsas) - set(selected_lsas)\n",
    "    fp_drn_distances = get_distances(fp, linestring)\n",
    "    fp_drn.update(fp)\n",
    "    fn = set(selected_lsas) - set(matched_lsas)\n",
    "    fn_drn_distances = get_distances(fn, linestring)\n",
    "    fn_drn.update(fn)\n",
    "    print(f\"DRN TP: {len(tp_drn)}, FP: {len(fp_drn)}, FN: {len(fn_drn)}\")\n",
    "tp_drn_count = len(tp_drn)\n",
    "fp_drn_count = len(fp_drn)\n",
    "fn_drn_count = len(fn_drn)\n",
    "precision_drn = tp_drn_count / (tp_drn_count + fp_drn_count) if tp_drn_count + fp_drn_count > 0 else 0\n",
    "recall_drn = tp_drn_count / (tp_drn_count + fn_drn_count) if tp_tp_drn_countdrn + fn_drn_count > 0 else 0\n",
    "f1_drn = 2 * precision_drn * recall_drn / (precision_drn + recall_drn) if precision_drn + recall_drn > 0 else 0\n",
    "# OSM\n",
    "tp_osm = set()\n",
    "tp_osm_distances = set()\n",
    "fp_osm = set()\n",
    "fp_osm_distances = set()\n",
    "fn_osm = set()\n",
    "fn_osm_distances = set()\n",
    "matchers_osm = [ TopologicHypermodelMatcher.from_config_file(f'config/topologic.hypermodel.osm.updated.json') ]\n",
    "for route_id in routes_with_bindings_drn:\n",
    "    routeGeometry = routes_with_bindings_drn[route_id][\"fields\"][\"geometry\"]\n",
    "    srid = int(routeGeometry.split(\"=\")[1].split(\";\")[0])\n",
    "    points = [(float(point.split(\" \")[0]), float(point.split(\" \")[1])) for point in routeGeometry.replace(\"SRID=4326;LINESTRING (\", \"\").replace(\")\",\"\").split(\", \")]\n",
    "    linestring = LineString(points, srid=srid)\n",
    "    matches = get_matches(linestring, matchers_osm)\n",
    "    matched_lsas = [lsa.id for lsa in matches]\n",
    "    selected_lsas = get_bindings_for_route_id(data_osm, routes_with_bindings_drn[route_id][\"pk\"])\n",
    "    tp = set(matched_lsas) & set(selected_lsas)\n",
    "    tp_osm_distances = get_distances(tp, linestring)\n",
    "    tp_osm.update(tp)\n",
    "    fp = set(matched_lsas) - set(selected_lsas)\n",
    "    fp_osm_distances = get_distances(fp, linestring)\n",
    "    fp_osm.update(fp)\n",
    "    fn = set(selected_lsas) - set(matched_lsas)\n",
    "    fn_osm_distances = get_distances(fn, linestring)\n",
    "    fn_osm.update(fn)\n",
    "    print(f\"OSM TP: {len(tp_osm)}, FP: {len(fp_osm)}, FN: {len(fn_osm)}\")\n",
    "tp_osm_count = len(tp_osm)\n",
    "fp_osm_count = len(fp_osm)\n",
    "fn_osm_count = len(fn_osm)\n",
    "precision_osm = tp_osm_count / (tp_osm_count + fp_osm_count) if tp_osm_count + fp_osm_count > 0 else 0\n",
    "recall_osm = tp_osm_count / (tp_osm_count + fn_osm_count) if tp_osm_count + fn_osm_count > 0 else 0\n",
    "f1_osm = 2 * precision_osm * recall_osm / (precision_osm + recall_osm) if precision_osm + recall_osm > 0 else 0"
   ]
  },
  {
   "cell_type": "code",
   "execution_count": null,
   "metadata": {},
   "outputs": [],
   "source": [
    "\n"
   ]
  },
  {
   "cell_type": "code",
   "execution_count": null,
   "metadata": {},
   "outputs": [],
   "source": []
  },
  {
   "cell_type": "code",
   "execution_count": null,
   "metadata": {},
   "outputs": [],
   "source": []
  },
  {
   "cell_type": "code",
   "execution_count": null,
   "metadata": {},
   "outputs": [],
   "source": []
  },
  {
   "cell_type": "code",
   "execution_count": null,
   "metadata": {},
   "outputs": [],
   "source": []
  },
  {
   "cell_type": "code",
   "execution_count": null,
   "metadata": {},
   "outputs": [],
   "source": []
  },
  {
   "cell_type": "code",
   "execution_count": null,
   "metadata": {},
   "outputs": [],
   "source": []
  },
  {
   "cell_type": "code",
   "execution_count": 3,
   "metadata": {},
   "outputs": [
    {
     "name": "stdout",
     "output_type": "stream",
     "text": [
      "db_drn.json  \u001b[0m\u001b[01;34mmatches\u001b[0m/  routing_paper.ipynb\r\n"
     ]
    }
   ],
   "source": []
  },
  {
   "cell_type": "code",
   "execution_count": 12,
   "metadata": {},
   "outputs": [
    {
     "name": "stdout",
     "output_type": "stream",
     "text": [
      "/code/backend/backend/notebooks/routing_paper/db_drn.json\n"
     ]
    }
   ],
   "source": []
  },
  {
   "cell_type": "code",
   "execution_count": null,
   "metadata": {},
   "outputs": [],
   "source": []
  },
  {
   "cell_type": "code",
   "execution_count": null,
   "metadata": {},
   "outputs": [],
   "source": []
  },
  {
   "cell_type": "code",
   "execution_count": null,
   "metadata": {},
   "outputs": [],
   "source": []
  }
 ],
 "metadata": {
  "kernelspec": {
   "display_name": "Django Shell-Plus",
   "language": "python",
   "name": "django_extensions"
  },
  "language_info": {
   "codemirror_mode": {
    "name": "ipython",
    "version": 3
   },
   "file_extension": ".py",
   "mimetype": "text/x-python",
   "name": "python",
   "nbconvert_exporter": "python",
   "pygments_lexer": "ipython3",
   "version": "3.9.2"
  }
 },
 "nbformat": 4,
 "nbformat_minor": 2
}
